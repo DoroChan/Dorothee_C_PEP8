{
  "nbformat": 4,
  "nbformat_minor": 0,
  "metadata": {
    "colab": {
      "provenance": [],
      "include_colab_link": true
    },
    "kernelspec": {
      "name": "python3",
      "display_name": "Python 3"
    }
  },
  "cells": [
    {
      "cell_type": "markdown",
      "metadata": {
        "id": "view-in-github",
        "colab_type": "text"
      },
      "source": [
        "<a href=\"https://colab.research.google.com/github/DoroChan/Dorothee_C_PEP8/blob/main/python_3_2_functions_helping_statisticians_part_1_doroth_e_catry.ipynb\" target=\"_parent\"><img src=\"https://colab.research.google.com/assets/colab-badge.svg\" alt=\"Open In Colab\"/></a>"
      ]
    },
    {
      "cell_type": "markdown",
      "source": [
        "# Examples from the course"
      ],
      "metadata": {
        "id": "rqiS9CLqCeHj"
      }
    },
    {
      "cell_type": "code",
      "source": [
        "amounts_list = [12, 24, 36, 51, 62]\n",
        "\n",
        "total = 0\n",
        "for i in amounts_list:\n",
        "  total += i\n",
        "print(f\"Total amount is: {total}\")\n",
        "\n",
        "print(f\"Total amount is: {sum(amounts_list)}\")"
      ],
      "metadata": {
        "id": "RfOITa2qBtOH",
        "colab": {
          "base_uri": "https://localhost:8080/"
        },
        "outputId": "ac2e9e3a-5945-4320-f65a-7a3498104c7f"
      },
      "execution_count": null,
      "outputs": [
        {
          "output_type": "stream",
          "name": "stdout",
          "text": [
            "Total amount is :  185\n",
            "Total amount is :  185\n"
          ]
        }
      ]
    },
    {
      "cell_type": "code",
      "source": [
        "def my_sum(list_argument):\n",
        "  tot = 0\n",
        "  for i in list_argument:\n",
        "    tot += i\n",
        "  print(tot)\n",
        "\n",
        "my_sum(amounts_list)"
      ],
      "metadata": {
        "id": "2jfSA6BiB7RI",
        "colab": {
          "base_uri": "https://localhost:8080/"
        },
        "outputId": "b40f060b-1452-4193-9ccb-4207dd1a3543"
      },
      "execution_count": null,
      "outputs": [
        {
          "output_type": "stream",
          "name": "stdout",
          "text": [
            "185\n"
          ]
        }
      ]
    },
    {
      "cell_type": "code",
      "source": [
        "print(list_argument)"
      ],
      "metadata": {
        "colab": {
          "base_uri": "https://localhost:8080/",
          "height": 176
        },
        "id": "G9N7YgbcDATU",
        "outputId": "3644713d-f2d6-44a8-84b4-0cd06e326251"
      },
      "execution_count": null,
      "outputs": [
        {
          "output_type": "error",
          "ename": "NameError",
          "evalue": "ignored",
          "traceback": [
            "\u001b[0;31m---------------------------------------------------------------------------\u001b[0m",
            "\u001b[0;31mNameError\u001b[0m                                 Traceback (most recent call last)",
            "\u001b[0;32m<ipython-input-3-aedd0d1f1f24>\u001b[0m in \u001b[0;36m<cell line: 1>\u001b[0;34m()\u001b[0m\n\u001b[0;32m----> 1\u001b[0;31m \u001b[0mprint\u001b[0m\u001b[0;34m(\u001b[0m\u001b[0mlist_argument\u001b[0m\u001b[0;34m)\u001b[0m\u001b[0;34m\u001b[0m\u001b[0;34m\u001b[0m\u001b[0m\n\u001b[0m",
            "\u001b[0;31mNameError\u001b[0m: name 'list_argument' is not defined"
          ]
        }
      ]
    },
    {
      "cell_type": "code",
      "source": [
        "print(tot)"
      ],
      "metadata": {
        "colab": {
          "base_uri": "https://localhost:8080/",
          "height": 176
        },
        "id": "Ik3IgNOsDK5q",
        "outputId": "b9b1c076-5437-4cbf-fedc-88a26853ac06"
      },
      "execution_count": null,
      "outputs": [
        {
          "output_type": "error",
          "ename": "NameError",
          "evalue": "ignored",
          "traceback": [
            "\u001b[0;31m---------------------------------------------------------------------------\u001b[0m",
            "\u001b[0;31mNameError\u001b[0m                                 Traceback (most recent call last)",
            "\u001b[0;32m<ipython-input-4-271bc17df104>\u001b[0m in \u001b[0;36m<cell line: 1>\u001b[0;34m()\u001b[0m\n\u001b[0;32m----> 1\u001b[0;31m \u001b[0mprint\u001b[0m\u001b[0;34m(\u001b[0m\u001b[0mtot\u001b[0m\u001b[0;34m)\u001b[0m\u001b[0;34m\u001b[0m\u001b[0;34m\u001b[0m\u001b[0m\n\u001b[0m",
            "\u001b[0;31mNameError\u001b[0m: name 'tot' is not defined"
          ]
        }
      ]
    },
    {
      "cell_type": "code",
      "source": [
        "def substraction(nb, nb_to_substract):\n",
        "  print(nb - nb_to_substract)\n",
        "\n",
        "substraction(12, 7)\n",
        "substraction(nb = 12, nb_to_substract = 7)\n",
        "substraction(nb_to_substract = 7, nb = 12)\n",
        "substraction(7, 12)"
      ],
      "metadata": {
        "id": "oSedFuq7CJhF",
        "colab": {
          "base_uri": "https://localhost:8080/"
        },
        "outputId": "198945c3-42b2-4fa2-97c6-3ac9c2e9b8fe"
      },
      "execution_count": null,
      "outputs": [
        {
          "output_type": "stream",
          "name": "stdout",
          "text": [
            "5\n",
            "5\n",
            "5\n",
            "-5\n"
          ]
        }
      ]
    },
    {
      "cell_type": "code",
      "source": [
        "def substraction(nb, nb_to_substract):\n",
        "  print(nb - nb_to_substract)\n",
        "\n",
        "substraction(10, 3) + 2"
      ],
      "metadata": {
        "id": "UVcGkMsOCRxm",
        "colab": {
          "base_uri": "https://localhost:8080/",
          "height": 228
        },
        "outputId": "5cc3fe51-961f-463c-ee46-6276aa88ec52"
      },
      "execution_count": null,
      "outputs": [
        {
          "output_type": "stream",
          "name": "stdout",
          "text": [
            "7\n"
          ]
        },
        {
          "output_type": "error",
          "ename": "TypeError",
          "evalue": "ignored",
          "traceback": [
            "\u001b[0;31m---------------------------------------------------------------------------\u001b[0m",
            "\u001b[0;31mTypeError\u001b[0m                                 Traceback (most recent call last)",
            "\u001b[0;32m<ipython-input-6-5162244bc18e>\u001b[0m in \u001b[0;36m<cell line: 4>\u001b[0;34m()\u001b[0m\n\u001b[1;32m      2\u001b[0m   \u001b[0mprint\u001b[0m\u001b[0;34m(\u001b[0m\u001b[0mnb\u001b[0m \u001b[0;34m-\u001b[0m \u001b[0mnb_to_substract\u001b[0m\u001b[0;34m)\u001b[0m\u001b[0;34m\u001b[0m\u001b[0;34m\u001b[0m\u001b[0m\n\u001b[1;32m      3\u001b[0m \u001b[0;34m\u001b[0m\u001b[0m\n\u001b[0;32m----> 4\u001b[0;31m \u001b[0msubstraction\u001b[0m\u001b[0;34m(\u001b[0m\u001b[0;36m10\u001b[0m \u001b[0;34m,\u001b[0m \u001b[0;36m3\u001b[0m\u001b[0;34m)\u001b[0m \u001b[0;34m+\u001b[0m \u001b[0;36m2\u001b[0m\u001b[0;34m\u001b[0m\u001b[0;34m\u001b[0m\u001b[0m\n\u001b[0m",
            "\u001b[0;31mTypeError\u001b[0m: unsupported operand type(s) for +: 'NoneType' and 'int'"
          ]
        }
      ]
    },
    {
      "cell_type": "code",
      "source": [
        "def substraction(nb, nb_to_substract):\n",
        "  return (nb - nb_to_substract)\n",
        "\n",
        "substraction(10 , 3) + 2"
      ],
      "metadata": {
        "colab": {
          "base_uri": "https://localhost:8080/"
        },
        "id": "JpS8f7WRDayU",
        "outputId": "f9452b91-dd46-4100-f4f0-a1f41e0493aa"
      },
      "execution_count": null,
      "outputs": [
        {
          "output_type": "execute_result",
          "data": {
            "text/plain": [
              "9"
            ]
          },
          "metadata": {},
          "execution_count": 7
        }
      ]
    },
    {
      "cell_type": "markdown",
      "metadata": {
        "id": "co2X9cGIieV0"
      },
      "source": [
        "# Help for statisticians!\n",
        "\n",
        "Your fellow statisticians need you. They want to learn how to program in Python and have tons of calculations to do.\n",
        "\n",
        "Very kindly, you agree to help them. Complete the missions below."
      ]
    },
    {
      "cell_type": "markdown",
      "metadata": {
        "id": "rvnKhKV7CVoS"
      },
      "source": [
        "![Einstien le génie](https://wallup.net/wp-content/uploads/2018/09/30/201016-funny-albert-einstein-748x468.jpg)"
      ]
    },
    {
      "cell_type": "code",
      "metadata": {
        "id": "S4jmbgw-kWcj",
        "colab": {
          "base_uri": "https://localhost:8080/",
          "height": 35
        },
        "outputId": "f478e6f7-ed3f-4971-8373-f41e5794625d"
      },
      "source": [
        "# Mission 1: Create a function, that simply returns the string \"Hello Python\"\n",
        "\n",
        "def message():\n",
        "  return \"Hello Python\"\n",
        "\n",
        "message()"
      ],
      "execution_count": null,
      "outputs": [
        {
          "output_type": "execute_result",
          "data": {
            "text/plain": [
              "'Hello Python'"
            ],
            "application/vnd.google.colaboratory.intrinsic+json": {
              "type": "string"
            }
          },
          "metadata": {},
          "execution_count": 9
        }
      ]
    },
    {
      "cell_type": "code",
      "metadata": {
        "id": "4rJVUEkNk5Oo",
        "colab": {
          "base_uri": "https://localhost:8080/"
        },
        "outputId": "9736355e-d6b5-4fe6-f894-f4f094254a50"
      },
      "source": [
        "# Mission 2: Create a function that takes in 2 numbers as parameters, and returns a boolean indicating whether or not they are equal\n",
        "\n",
        "def equals(num_1, num_2):\n",
        "  equals_num = (num_1 == num_2)\n",
        "  return equals_num\n",
        "\n",
        "equals(2,2)"
      ],
      "execution_count": null,
      "outputs": [
        {
          "output_type": "execute_result",
          "data": {
            "text/plain": [
              "True"
            ]
          },
          "metadata": {},
          "execution_count": 11
        }
      ]
    },
    {
      "cell_type": "code",
      "metadata": {
        "id": "Q9X4m3D4h-xu",
        "colab": {
          "base_uri": "https://localhost:8080/"
        },
        "outputId": "dbd61f0c-0617-40c4-dda1-97203049e7f3"
      },
      "source": [
        "# Mission 3: Create a function that takes a number as parameter, and returns the first 10 multiples of the number as a list\n",
        "# Example: 2 -> [2, 4, 6, 8, 10, 12, 14, 16, 18, 20]\n",
        "\n",
        "def first_ten_multiples(num):\n",
        "  lst_multiples = []\n",
        "  for i in range(1, 11):\n",
        "    lst_multiples.append(num*i)\n",
        "  return lst_multiples\n",
        "\n",
        "first_ten_multiples(2)"
      ],
      "execution_count": null,
      "outputs": [
        {
          "output_type": "execute_result",
          "data": {
            "text/plain": [
              "[2, 4, 6, 8, 10, 12, 14, 16, 18, 20]"
            ]
          },
          "metadata": {},
          "execution_count": 28
        }
      ]
    },
    {
      "cell_type": "code",
      "metadata": {
        "id": "Fe9kZrvklI0b"
      },
      "source": [
        "# Mission 4: Create a function that takes a string as input, and return its vowels only, preserving case.\n",
        "# Example: \"Antidisestablishmentarianism\" -> \"Aiieaieaiai\"\n",
        "# Example: \"TO BE OR NOT TO BE\" -> \"OEOOOE\"\n",
        "\n",
        "def vowels_only(my_string):\n",
        "  new_string = \"\"\n",
        "  for char_1 in my_string:\n",
        "    for char_2 in \"AIUEOaiueo\":\n",
        "      if char_1 == char_2:\n",
        "        new_string += char_1\n",
        "  return new_string"
      ],
      "execution_count": null,
      "outputs": []
    },
    {
      "cell_type": "code",
      "source": [
        "vowels_only(\"Antidisestablishmentarianis\")"
      ],
      "metadata": {
        "colab": {
          "base_uri": "https://localhost:8080/",
          "height": 35
        },
        "id": "Q8E9Kw27Ns2B",
        "outputId": "33b5cd88-77a3-4783-8325-fc2945e074fb"
      },
      "execution_count": null,
      "outputs": [
        {
          "output_type": "execute_result",
          "data": {
            "text/plain": [
              "'Aiieaieaiai'"
            ],
            "application/vnd.google.colaboratory.intrinsic+json": {
              "type": "string"
            }
          },
          "metadata": {},
          "execution_count": 46
        }
      ]
    },
    {
      "cell_type": "code",
      "source": [
        "vowels_only(\"TO BE OR NOT TO BE\")"
      ],
      "metadata": {
        "colab": {
          "base_uri": "https://localhost:8080/",
          "height": 35
        },
        "id": "ocQE8rlNNsV4",
        "outputId": "448f1cf8-8368-4ee0-d8a9-f5305cdccd7e"
      },
      "execution_count": null,
      "outputs": [
        {
          "output_type": "execute_result",
          "data": {
            "text/plain": [
              "'OEOOOE'"
            ],
            "application/vnd.google.colaboratory.intrinsic+json": {
              "type": "string"
            }
          },
          "metadata": {},
          "execution_count": 47
        }
      ]
    },
    {
      "cell_type": "code",
      "metadata": {
        "id": "7b3JtuNClm4a"
      },
      "source": [
        "# Mission 5: Create a function that takes 2 numbers as parameters, and returns the result of a division operation.\n",
        "# Test if the denominator is equal to 0 and if so, display a message that says: \"You can't divide by zero\".\n",
        "\n",
        "def my_division(num, deno):\n",
        "  if deno == 0:\n",
        "    return \"You can't divide by zero fuc**** banana!!!\"\n",
        "  else:\n",
        "    result = num / deno\n",
        "    return result"
      ],
      "execution_count": null,
      "outputs": []
    },
    {
      "cell_type": "code",
      "source": [
        "my_division(2,0)"
      ],
      "metadata": {
        "colab": {
          "base_uri": "https://localhost:8080/",
          "height": 35
        },
        "id": "9YXA7KLkOvdg",
        "outputId": "d09c263f-02b7-475e-aac5-cbe10ebc9007"
      },
      "execution_count": null,
      "outputs": [
        {
          "output_type": "execute_result",
          "data": {
            "text/plain": [
              "\"You can't divide by zero fuc**** banana!!!\""
            ],
            "application/vnd.google.colaboratory.intrinsic+json": {
              "type": "string"
            }
          },
          "metadata": {},
          "execution_count": 61
        }
      ]
    },
    {
      "cell_type": "code",
      "source": [
        "my_division(3,5)"
      ],
      "metadata": {
        "colab": {
          "base_uri": "https://localhost:8080/"
        },
        "id": "y8VpGRu2OvON",
        "outputId": "d8d661db-a53c-43dd-cee0-9a1dbd8e13ab"
      },
      "execution_count": null,
      "outputs": [
        {
          "output_type": "execute_result",
          "data": {
            "text/plain": [
              "0.6"
            ]
          },
          "metadata": {},
          "execution_count": 62
        }
      ]
    },
    {
      "cell_type": "code",
      "metadata": {
        "id": "6hjrrDyUlN8o"
      },
      "source": [
        "# Mission 6: First, choose two arithmetical operations (such as +, -, *, or /)\n",
        "# Then, create a function that takes in 3 numbers as parameters and carries out those operations, displays a message indicating if the result is positive, negative or zero, and finally returns the result.\n",
        "# If a division by zero is attempted, display an error message.\n",
        "\n",
        "def my_function(num_1, num_2, deno):\n",
        "  if deno == 0:\n",
        "    return f\"Divide-by-zero error\"\n",
        "  result = (num_1 + num_2) / deno\n",
        "  if result > 0:\n",
        "    return f\"Positive result : {result}\"\n",
        "  elif result < 0:\n",
        "    return f\"Negative result : {result}\"\n",
        "\n",
        "# Example with multiplication and addition:\n",
        "# Calling with 0, 32, 2 will compute (0*32)+2, will display \"Positive result\", and return 2\n",
        "\n",
        "# Example with division and addition:\n",
        "# Calling with 21, 0, 3 will try to compute (21/0)+2, will display \"Divide-by-zero error\"\n"
      ],
      "execution_count": null,
      "outputs": []
    },
    {
      "cell_type": "code",
      "source": [
        "my_function(1,2,3)"
      ],
      "metadata": {
        "id": "a93Ky3TxPC9V",
        "colab": {
          "base_uri": "https://localhost:8080/",
          "height": 35
        },
        "outputId": "459159df-e351-4ad2-c940-30633023d987"
      },
      "execution_count": null,
      "outputs": [
        {
          "output_type": "execute_result",
          "data": {
            "text/plain": [
              "'Positive result : 1.0'"
            ],
            "application/vnd.google.colaboratory.intrinsic+json": {
              "type": "string"
            }
          },
          "metadata": {},
          "execution_count": 65
        }
      ]
    },
    {
      "cell_type": "code",
      "source": [
        "my_function(1,-2,3)"
      ],
      "metadata": {
        "colab": {
          "base_uri": "https://localhost:8080/",
          "height": 35
        },
        "id": "d0tOOoLpQ936",
        "outputId": "347cd4db-8608-4ae3-a58e-0cc27fd02699"
      },
      "execution_count": null,
      "outputs": [
        {
          "output_type": "execute_result",
          "data": {
            "text/plain": [
              "'Negative result : -0.3333333333333333'"
            ],
            "application/vnd.google.colaboratory.intrinsic+json": {
              "type": "string"
            }
          },
          "metadata": {},
          "execution_count": 67
        }
      ]
    },
    {
      "cell_type": "code",
      "source": [
        "my_function(1,3,0)"
      ],
      "metadata": {
        "colab": {
          "base_uri": "https://localhost:8080/",
          "height": 35
        },
        "id": "MbFReeKQRFt-",
        "outputId": "9270c890-9dcd-42e9-fb06-905c98cd3e5b"
      },
      "execution_count": null,
      "outputs": [
        {
          "output_type": "execute_result",
          "data": {
            "text/plain": [
              "'Divide-by-zero error'"
            ],
            "application/vnd.google.colaboratory.intrinsic+json": {
              "type": "string"
            }
          },
          "metadata": {},
          "execution_count": 68
        }
      ]
    },
    {
      "cell_type": "code",
      "metadata": {
        "id": "r6DP6oTDmqfs"
      },
      "source": [
        "# Mission 7: Create a function that takes a number as a parameter that corresponds to gross salary and returns the net salary for executives.\n",
        "# You can specify any amount of deductions, or base them on your country's example\n",
        "\n",
        "def net_salary(gross_salary):\n",
        "  result = gross_salary * 0.75\n",
        "  return result"
      ],
      "execution_count": null,
      "outputs": []
    },
    {
      "cell_type": "code",
      "source": [
        "net_salary(30000)"
      ],
      "metadata": {
        "id": "L_DsOazcPL9A",
        "colab": {
          "base_uri": "https://localhost:8080/"
        },
        "outputId": "2d3a9c9c-bb84-4403-9303-a073f4f2ae6d"
      },
      "execution_count": null,
      "outputs": [
        {
          "output_type": "execute_result",
          "data": {
            "text/plain": [
              "22500.0"
            ]
          },
          "metadata": {},
          "execution_count": 71
        }
      ]
    },
    {
      "cell_type": "code",
      "metadata": {
        "id": "T57txpOLjVXv",
        "colab": {
          "base_uri": "https://localhost:8080/"
        },
        "outputId": "253105fc-5c94-4212-9adf-e124fd3073f9"
      },
      "source": [
        "# Mission 8: Create a function that can swap the values of any two variables, such as if variable A = 1 and variable B = 2, after applying the function, variable A = 2 and B = 1\n",
        "\n",
        "def swapping_function(var_1,var_2):\n",
        "  temp = var_1\n",
        "  var_1 = var_2\n",
        "  var_2 = temp\n",
        "  return var_1, var_2"
      ],
      "execution_count": null,
      "outputs": [
        {
          "output_type": "stream",
          "name": "stdout",
          "text": [
            "3\n",
            "2\n"
          ]
        }
      ]
    },
    {
      "cell_type": "code",
      "source": [
        "a = 2\n",
        "b = 3\n",
        "\n",
        "a, b = swapping_function(a,b)\n",
        "\n",
        "print(a)\n",
        "print(b)"
      ],
      "metadata": {
        "colab": {
          "base_uri": "https://localhost:8080/"
        },
        "id": "1nNuT7Qygx_A",
        "outputId": "9dc64ad1-84b5-43b9-a2d0-95b2da3e0133"
      },
      "execution_count": null,
      "outputs": [
        {
          "output_type": "stream",
          "name": "stdout",
          "text": [
            "3\n",
            "2\n"
          ]
        }
      ]
    },
    {
      "cell_type": "code",
      "metadata": {
        "id": "JDtpZ_1rkZSl"
      },
      "source": [
        "def swapping_function(var_1,var_2):\n",
        "  return var_2, var_1"
      ],
      "execution_count": null,
      "outputs": []
    },
    {
      "cell_type": "code",
      "source": [
        "a = 2\n",
        "b = 3\n",
        "\n",
        "a, b = swapping_function(a,b)\n",
        "\n",
        "print(a)\n",
        "print(b)"
      ],
      "metadata": {
        "colab": {
          "base_uri": "https://localhost:8080/"
        },
        "id": "u4hvnEYpg8au",
        "outputId": "bed57b4b-6b12-4fb4-c823-7a1927a8796f"
      },
      "execution_count": null,
      "outputs": [
        {
          "output_type": "stream",
          "name": "stdout",
          "text": [
            "3\n",
            "2\n"
          ]
        }
      ]
    }
  ]
}